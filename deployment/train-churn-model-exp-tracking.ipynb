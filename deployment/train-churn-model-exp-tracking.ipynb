{
 "cells": [
  {
   "cell_type": "markdown",
   "id": "52a19d2a-6689-4a62-bd4f-1e2b20330176",
   "metadata": {},
   "source": [
    "# Churn Model Training with Experiment Tracking\n",
    "- This notebook trains a logistic regression model for churn prediction using K-Fold cross-validation and tracks performance across different regularization strengths (C).\n",
    "- Refactored Training Pipeline: Dynamic C for Experiment Tracking\n",
    "\n"
   ]
  },
  {
   "cell_type": "code",
   "execution_count": 1,
   "id": "288c3e7c-c1cf-4d43-81f6-06e3a33b23d0",
   "metadata": {},
   "outputs": [],
   "source": [
    "import numpy as np\n",
    "import pandas as pd\n",
    "\n",
    "from sklearn.model_selection import train_test_split               # --> data splitting\n",
    "from sklearn.model_selection import KFold                           # --> create folds\n",
    "\n",
    "from sklearn.feature_extraction import DictVectorizer             # --> handle categorical variables\n",
    "from sklearn.linear_model import LogisticRegression               # --> logistic model\n",
    "from sklearn.metrics import roc_auc_score                         # --> evaluate with auc_roc_score    \n",
    "\n",
    "from tqdm.auto import tqdm                           #----> show the iteration"
   ]
  },
  {
   "cell_type": "code",
   "execution_count": 2,
   "id": "8ffdb847-de58-4106-9255-bfe0552460b7",
   "metadata": {},
   "outputs": [],
   "source": [
    "df = pd.read_csv('../03-churn-project/WA_Fn-UseC_-Telco-Customer-Churn.csv', na_values=['',' '])\n",
    "\n",
    "df.columns  = df.columns.str.lower() #convert columns to lower case\n",
    "\n",
    "categorical_columns = list(df.dtypes[df.dtypes == \"object\"].index) # get all categorical columns\n",
    "\n",
    "# For each column name, Replace empty spaces in column indices with _\n",
    "for cols in categorical_columns:\n",
    "    df[cols] = df[cols].str.lower().str.replace(' ','_') \n",
    "    \n",
    "# replace all missing entries in totalcharges column with the median   \n",
    "df['totalcharges'] = df.totalcharges.fillna(df.totalcharges.median())\n",
    "\n",
    "#convert the entries in churn column into integer (0,1)\n",
    "df.churn = (df.churn == 'yes').astype(int)"
   ]
  },
  {
   "cell_type": "code",
   "execution_count": 3,
   "id": "dee8af7b-4918-43ce-9778-aba510157dc2",
   "metadata": {},
   "outputs": [],
   "source": [
    "df_full_train, df_test = train_test_split(df, test_size=0.2,random_state=1)"
   ]
  },
  {
   "cell_type": "code",
   "execution_count": 4,
   "id": "918ceb80-2aba-4922-af73-313f3d1303c7",
   "metadata": {},
   "outputs": [],
   "source": [
    "numerical = ['tenure', 'monthlycharges', 'totalcharges']\n",
    "\n",
    "categorical = [\n",
    "     'gender',\n",
    "     'seniorcitizen',\n",
    "     'partner',\n",
    "     'dependents',\n",
    "     'phoneservice',\n",
    "     'multiplelines',\n",
    "     'internetservice',\n",
    "     'onlinesecurity',\n",
    "     'onlinebackup',\n",
    "     'deviceprotection',\n",
    "     'techsupport',\n",
    "     'streamingtv',\n",
    "     'streamingmovies',\n",
    "     'contract',\n",
    "     'paperlessbilling',\n",
    "     'paymentmethod',\n",
    "]\n"
   ]
  },
  {
   "cell_type": "code",
   "execution_count": 5,
   "id": "37a5c909-d3a6-488b-9b35-d991f34840be",
   "metadata": {},
   "outputs": [],
   "source": [
    "# training pipeline - function that accepts X, y C,\n",
    "# get the dictvectorizer on train, fit the logistic model, returns dv, model\n",
    "\n",
    "def train(df_train, y_train, C):\n",
    "    dicts = df_train[numerical + categorical].to_dict(orient = 'records')\n",
    "    dv = DictVectorizer(sparse = False)\n",
    "    X_train = dv.fit_transform(dicts)\n",
    "    model = LogisticRegression(C=C, max_iter=10000).fit(X_train, y_train)\n",
    "    return dv, model"
   ]
  },
  {
   "cell_type": "code",
   "execution_count": 6,
   "id": "7018c4df-016e-45ba-8b95-ab8a952a154c",
   "metadata": {},
   "outputs": [],
   "source": [
    "#----> prediction function\n",
    "\n",
    "def predict(df_val, dv, model):\n",
    "    dicts = df_val[numerical + categorical].to_dict(orient = 'records')\n",
    "    X_val = dv.transform(dicts)\n",
    "\n",
    "    y_pred = model.predict_proba(X_val)[:,1]\n",
    "\n",
    "    return y_pred"
   ]
  },
  {
   "cell_type": "code",
   "execution_count": 7,
   "id": "dc54905e-271d-483e-aeb3-bfc0daac80ac",
   "metadata": {},
   "outputs": [
    {
     "data": {
      "application/vnd.jupyter.widget-view+json": {
       "model_id": "31d208688b484aaa88db77a5d07ac183",
       "version_major": 2,
       "version_minor": 0
      },
      "text/plain": [
       "  0%|          | 0/7 [00:00<?, ?it/s]"
      ]
     },
     "metadata": {},
     "output_type": "display_data"
    },
    {
     "name": "stdout",
     "output_type": "stream",
     "text": [
      "C=0.001 0.825 +- 0.009\n",
      "C=0.01 0.840 +- 0.008\n",
      "C=0.1 0.842 +- 0.007\n",
      "C=0.5 0.842 +- 0.007\n",
      "C=1 0.842 +- 0.007\n",
      "C=5 0.842 +- 0.007\n",
      "C=10 0.842 +- 0.007\n",
      "\n",
      "Best C: 0.5 with AUC: 0.842\n",
      "\n"
     ]
    }
   ],
   "source": [
    "#--->  Run Cross-Validation and Store Results\n",
    "n_splits = 5\n",
    "\n",
    "cv_results = {}\n",
    "\n",
    "for C in tqdm([0.001, 0.01, 0.1, 0.5, 1, 5, 10]):\n",
    "    \n",
    "    kfold = KFold(n_splits=5, shuffle=True, random_state=1)\n",
    "    \n",
    "    scores = []\n",
    "\n",
    "    for train_idx, val_idx in kfold.split(df_full_train):\n",
    "        df_train = df_full_train.iloc[train_idx]\n",
    "        df_val = df_full_train.iloc[val_idx]\n",
    "\n",
    "        y_train = df_train.churn.values\n",
    "        y_val = df_val.churn.values\n",
    "\n",
    "        dv, model = train(df_train, y_train, C=C)\n",
    "        y_pred = predict(df_val, dv, model)\n",
    "\n",
    "        auc = roc_auc_score(y_val, y_pred)\n",
    "        scores.append(auc)\n",
    "\n",
    "    cv_results[C] = np.mean(scores)\n",
    "    print('C=%s %.3f +- %.3f' % (C, np.mean(scores), np.std(scores)))\n",
    "    \n",
    "# --> Step 3: Select Best C and Use It\n",
    "best_C = max(cv_results, key=cv_results.get)\n",
    "print()\n",
    "print(f\"Best C: {best_C} with AUC: {cv_results[best_C]:.3f}\")\n",
    "print()"
   ]
  },
  {
   "cell_type": "code",
   "execution_count": 11,
   "id": "bc0fa4c1-e331-4850-a221-bb0c61bfe80a",
   "metadata": {},
   "outputs": [],
   "source": [
    "# Final training on full data\n",
    "dv_final, model_final = train(df_full_train, df_full_train.churn.values, C=best_C)\n"
   ]
  },
  {
   "cell_type": "code",
   "execution_count": 10,
   "id": "e7947136-66a5-450a-a60d-c43bc90ebb80",
   "metadata": {},
   "outputs": [
    {
     "name": "stdout",
     "output_type": "stream",
     "text": [
      "Final test AUC: 0.858\n"
     ]
    }
   ],
   "source": [
    "#predict on test data\n",
    "y_pred_test = predict(df_test, dv_final, model_final)\n",
    "auc_test = roc_auc_score(df_test.churn.values, y_pred_test)\n",
    "print(f\"Final test AUC: {auc_test:.3f}\")"
   ]
  },
  {
   "cell_type": "code",
   "execution_count": null,
   "id": "49b4e897-57fd-4616-bad2-7e6377a5e70b",
   "metadata": {},
   "outputs": [],
   "source": []
  }
 ],
 "metadata": {
  "kernelspec": {
   "display_name": "Python 3 (ipykernel)",
   "language": "python",
   "name": "python3"
  },
  "language_info": {
   "codemirror_mode": {
    "name": "ipython",
    "version": 3
   },
   "file_extension": ".py",
   "mimetype": "text/x-python",
   "name": "python",
   "nbconvert_exporter": "python",
   "pygments_lexer": "ipython3",
   "version": "3.12.1"
  }
 },
 "nbformat": 4,
 "nbformat_minor": 5
}
