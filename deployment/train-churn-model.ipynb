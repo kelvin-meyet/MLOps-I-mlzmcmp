{
 "cells": [
  {
   "cell_type": "markdown",
   "id": "dbece961-4fa5-4df1-81c4-26639b26184d",
   "metadata": {},
   "source": [
    "# Churn Model Training\n",
    "- This notebook trains a logistic regression model for churn prediction using K-Fold cross-validation with hard coded C(regularization strength)"
   ]
  },
  {
   "cell_type": "markdown",
   "id": "8115b180-a67f-4e05-8d50-fb785b4fbe92",
   "metadata": {},
   "source": [
    "## Import Needed Libraries\n",
    "- pandas\n",
    "- numpy\n",
    "- sklearn\n",
    "\n",
    "Dataset Link: https://github.com/alexeygrigorev/mlbookcamp-code/tree/master/chapter-03-churn-prediction"
   ]
  },
  {
   "cell_type": "code",
   "execution_count": 1,
   "id": "bf7434a8-1aeb-4c13-beed-ced01e22352d",
   "metadata": {},
   "outputs": [],
   "source": [
    "import numpy as np\n",
    "import pandas as pd\n",
    "\n",
    "from sklearn.model_selection import train_test_split               # --> data splitting\n",
    "from sklearn.model_selection import KFold                           # --> create folds\n",
    "\n",
    "from sklearn.feature_extraction import DictVectorizer             # --> handle categorical variables\n",
    "from sklearn.linear_model import LogisticRegression               # --> logistic model\n",
    "from sklearn.metrics import roc_auc_score                         # --> evaluate with auc_roc_score            "
   ]
  },
  {
   "cell_type": "code",
   "execution_count": 2,
   "id": "560db4bb-bf69-4547-b36a-1196e0166bd8",
   "metadata": {},
   "outputs": [],
   "source": [
    "df = pd.read_csv('../03-churn-project/WA_Fn-UseC_-Telco-Customer-Churn.csv', na_values=['',' '])\n",
    "\n",
    "df.columns  = df.columns.str.lower() #convert columns to lower case\n",
    "\n",
    "categorical_columns = list(df.dtypes[df.dtypes == \"object\"].index) # get all categorical columns\n",
    "\n",
    "# For each column name, Replace empty spaces in column indices with _\n",
    "for cols in categorical_columns:\n",
    "    df[cols] = df[cols].str.lower().str.replace(' ','_') \n",
    "    \n",
    "# replace all missing entries in totalcharges column with the median   \n",
    "df['totalcharges'] = df.totalcharges.fillna(df.totalcharges.median())\n",
    "\n",
    "#convert the entries in churn column into integer (0,1)\n",
    "df.churn = (df.churn == 'yes').astype(int)\n"
   ]
  },
  {
   "cell_type": "code",
   "execution_count": 3,
   "id": "62bbc700-9b28-46ca-897c-bcec07177014",
   "metadata": {},
   "outputs": [],
   "source": [
    "df_full_train, df_test = train_test_split(df, test_size=0.2,random_state=1)\n",
    "\n",
    "#y_test = df_test.churn.values\n",
    "\n",
    "# df_full_train.shape, df_test.shape\n",
    "\n",
    "# df_f_train, df_tes = train_test_split(df, train_size=0.8, random_state=1)\n",
    "\n",
    "# df_f_train.shape, df_tes.shape"
   ]
  },
  {
   "cell_type": "code",
   "execution_count": 4,
   "id": "ababbb30-b26c-4b0e-9d8d-9076e5877c00",
   "metadata": {},
   "outputs": [],
   "source": [
    "numerical = ['tenure', 'monthlycharges', 'totalcharges']\n",
    "\n",
    "categorical = [\n",
    "     'gender',\n",
    "     'seniorcitizen',\n",
    "     'partner',\n",
    "     'dependents',\n",
    "     'phoneservice',\n",
    "     'multiplelines',\n",
    "     'internetservice',\n",
    "     'onlinesecurity',\n",
    "     'onlinebackup',\n",
    "     'deviceprotection',\n",
    "     'techsupport',\n",
    "     'streamingtv',\n",
    "     'streamingmovies',\n",
    "     'contract',\n",
    "     'paperlessbilling',\n",
    "     'paymentmethod',\n",
    "]\n"
   ]
  },
  {
   "cell_type": "code",
   "execution_count": 5,
   "id": "be8ef73f-df9c-41d3-86a7-9a15329d937a",
   "metadata": {},
   "outputs": [],
   "source": [
    "# training pipeline - function that accepts X, y C,\n",
    "# get the dictvectorizer on train, fit the logistic model, returns dv, model\n",
    "\n",
    "def train(df_train, y_train, C=0.5):\n",
    "    dicts = df_train[numerical + categorical].to_dict(orient = 'records')\n",
    "\n",
    "    dv = DictVectorizer(sparse = False)\n",
    "\n",
    "    X_train = dv.fit_transform(dicts)\n",
    "\n",
    "    model = LogisticRegression(C=0.5, max_iter=10000).fit(X_train, y_train)\n",
    "\n",
    "    return dv, model\n"
   ]
  },
  {
   "cell_type": "code",
   "execution_count": 6,
   "id": "1d79f923-5bb4-456c-ba46-f97fc6df3998",
   "metadata": {},
   "outputs": [],
   "source": [
    "#prediction function\n",
    "\n",
    "def predict(df_val, dv, model):\n",
    "    dicts = df_val[numerical + categorical].to_dict(orient = 'records')\n",
    "    X_val = dv.transform(dicts)\n",
    "\n",
    "    y_pred = model.predict_proba(X_val)[:,1]\n",
    "\n",
    "    return y_pred"
   ]
  },
  {
   "cell_type": "code",
   "execution_count": 7,
   "id": "cb0a7f7a-a883-4def-b60a-051b50ab795c",
   "metadata": {},
   "outputs": [],
   "source": [
    "C = 0.5\n",
    "n_splits = 5"
   ]
  },
  {
   "cell_type": "code",
   "execution_count": 8,
   "id": "6bb085d1-c3d0-41e1-93b7-b70287d45ef2",
   "metadata": {},
   "outputs": [
    {
     "name": "stdout",
     "output_type": "stream",
     "text": [
      "C = 0.5 0.842 +- 0.007\n"
     ]
    }
   ],
   "source": [
    "kfold = KFold(n_splits=n_splits, shuffle=True, random_state=1)\n",
    "\n",
    "scores = []\n",
    "\n",
    "for train_idx, val_idx in kfold.split(df_full_train):\n",
    "    df_train = df_full_train.iloc[train_idx]\n",
    "    df_val = df_full_train.iloc[val_idx]\n",
    "\n",
    "    y_train = df_train.churn.values\n",
    "    y_val = df_val.churn.values\n",
    "\n",
    "    dv, model = train(df_train, y_train, C=C) #--> the train function we wrote\n",
    "    y_pred = predict(df_val, dv, model)       #--> the predict function we wrote\n",
    "\n",
    "    auc = roc_auc_score(y_val, y_pred)\n",
    "    scores.append(auc)\n",
    "\n",
    "print('C = %s %.3f +- %.3f' % (C, np.mean(scores), np.std(scores)))"
   ]
  },
  {
   "cell_type": "code",
   "execution_count": 9,
   "id": "46f161d2-f757-4e38-b543-197b2e240cbf",
   "metadata": {},
   "outputs": [
    {
     "data": {
      "text/plain": [
       "[0.8444238603983012,\n",
       " 0.8452295225797907,\n",
       " 0.8334457154324704,\n",
       " 0.8345490663170685,\n",
       " 0.8515813749176367]"
      ]
     },
     "execution_count": 9,
     "metadata": {},
     "output_type": "execute_result"
    }
   ],
   "source": [
    "scores"
   ]
  },
  {
   "cell_type": "code",
   "execution_count": 10,
   "id": "946c548c-af74-4aea-9189-90f8063b3536",
   "metadata": {},
   "outputs": [],
   "source": [
    "dv, model = train(df_full_train, df_full_train.churn.values, C=0.5)\n",
    "y_pred = predict(df_test, dv, model)\n",
    "y_test = df_test.churn.values\n",
    "\n",
    "auc = roc_auc_score(y_test, y_pred)"
   ]
  },
  {
   "cell_type": "code",
   "execution_count": 11,
   "id": "48954fc2-d024-4d11-a730-3e36f306a626",
   "metadata": {},
   "outputs": [
    {
     "data": {
      "text/plain": [
       "0.8583490417844801"
      ]
     },
     "execution_count": 11,
     "metadata": {},
     "output_type": "execute_result"
    }
   ],
   "source": [
    "auc"
   ]
  },
  {
   "cell_type": "code",
   "execution_count": null,
   "id": "5c274230-6396-4730-9f5c-c41f4b50fa60",
   "metadata": {},
   "outputs": [],
   "source": []
  },
  {
   "cell_type": "markdown",
   "id": "4550c143-1b19-4bc3-b9cd-5cdcd48dae68",
   "metadata": {},
   "source": [
    "## Save the model"
   ]
  },
  {
   "cell_type": "code",
   "execution_count": null,
   "id": "380ada34-b227-455e-9732-e8d05a546124",
   "metadata": {},
   "outputs": [],
   "source": []
  },
  {
   "cell_type": "code",
   "execution_count": null,
   "id": "76864fc3-48fc-47fb-902e-5a22fcd38423",
   "metadata": {},
   "outputs": [],
   "source": []
  },
  {
   "cell_type": "code",
   "execution_count": null,
   "id": "fb03304a-a9b9-4bde-9314-8ca3844c866d",
   "metadata": {},
   "outputs": [],
   "source": []
  },
  {
   "cell_type": "code",
   "execution_count": null,
   "id": "e829f9f7-a40a-4bb6-9d0e-d027bd0f724f",
   "metadata": {},
   "outputs": [],
   "source": []
  },
  {
   "cell_type": "markdown",
   "id": "650abd5b-ce95-4c3e-86a6-031bc9eb466e",
   "metadata": {},
   "source": [
    "# Load the model"
   ]
  },
  {
   "cell_type": "code",
   "execution_count": null,
   "id": "910ed4dc-5123-4208-b355-412553dc4531",
   "metadata": {},
   "outputs": [],
   "source": []
  },
  {
   "cell_type": "code",
   "execution_count": null,
   "id": "771d3186-cd73-4603-8227-cf046912cf84",
   "metadata": {},
   "outputs": [],
   "source": []
  }
 ],
 "metadata": {
  "kernelspec": {
   "display_name": "Python 3 (ipykernel)",
   "language": "python",
   "name": "python3"
  },
  "language_info": {
   "codemirror_mode": {
    "name": "ipython",
    "version": 3
   },
   "file_extension": ".py",
   "mimetype": "text/x-python",
   "name": "python",
   "nbconvert_exporter": "python",
   "pygments_lexer": "ipython3",
   "version": "3.12.1"
  }
 },
 "nbformat": 4,
 "nbformat_minor": 5
}
