{
 "cells": [
  {
   "cell_type": "markdown",
   "id": "56f2221d-1abd-47b4-acdf-e72779e0ae44",
   "metadata": {},
   "source": [
    "# Numpy Intro "
   ]
  },
  {
   "cell_type": "code",
   "execution_count": 1,
   "id": "d72c93f0-4a12-415d-99d8-ea63d19e4228",
   "metadata": {},
   "outputs": [],
   "source": [
    "import numpy as np"
   ]
  },
  {
   "cell_type": "markdown",
   "id": "d7eab5f6-90ea-46c7-9a9c-74f6a1dc4ded",
   "metadata": {},
   "source": [
    "## Creating Arrays\n"
   ]
  },
  {
   "cell_type": "code",
   "execution_count": 2,
   "id": "428ae3cb-58ee-4b03-b178-447c176971e4",
   "metadata": {},
   "outputs": [
    {
     "data": {
      "text/plain": [
       "array([0., 0., 0.])"
      ]
     },
     "execution_count": 2,
     "metadata": {},
     "output_type": "execute_result"
    }
   ],
   "source": [
    "zerros_array = np.zeros(3)\n",
    "zerros_array"
   ]
  },
  {
   "cell_type": "code",
   "execution_count": 3,
   "id": "61895830-d177-4d71-a410-02b782c5cb80",
   "metadata": {},
   "outputs": [
    {
     "data": {
      "text/plain": [
       "array([1., 1., 1.])"
      ]
     },
     "execution_count": 3,
     "metadata": {},
     "output_type": "execute_result"
    }
   ],
   "source": [
    "ones_array = np.ones(3)\n",
    "ones_array"
   ]
  },
  {
   "cell_type": "code",
   "execution_count": 4,
   "id": "5b3babe7-52b1-4281-8fb1-8e2df6d985d5",
   "metadata": {},
   "outputs": [
    {
     "data": {
      "text/plain": [
       "array([28, 28, 28])"
      ]
     },
     "execution_count": 4,
     "metadata": {},
     "output_type": "execute_result"
    }
   ],
   "source": [
    "constant_array = np.full(3, 28)\n",
    "constant_array"
   ]
  },
  {
   "cell_type": "code",
   "execution_count": 5,
   "id": "d6bf71ab-b9c1-433b-b871-7d83a99444cc",
   "metadata": {},
   "outputs": [
    {
     "data": {
      "text/plain": [
       "array([1, 2, 3, 5])"
      ]
     },
     "execution_count": 5,
     "metadata": {},
     "output_type": "execute_result"
    }
   ],
   "source": [
    "# Can also convert List to Arrays\n",
    "my_list = [1,2,3,5]\n",
    "\n",
    "list_to_array = np.array(my_list)\n",
    "\n",
    "list_to_array"
   ]
  },
  {
   "cell_type": "code",
   "execution_count": 39,
   "id": "13f24a38-2884-4e61-ba9f-565580e5f7df",
   "metadata": {},
   "outputs": [
    {
     "name": "stdout",
     "output_type": "stream",
     "text": [
      "[0 1 2 3 4 5 6 7 8 9]\n"
     ]
    },
    {
     "data": {
      "text/plain": [
       "array([1, 3, 5, 7, 9])"
      ]
     },
     "execution_count": 39,
     "metadata": {},
     "output_type": "execute_result"
    }
   ],
   "source": [
    "# Generating Range of Numbers \n",
    "range_array = np.arange(10)  #from 0 to 9\n",
    "print(range_array)\n",
    "\n",
    "np.arange(1,10,2) #from 1  to 10 spaced by 2"
   ]
  },
  {
   "cell_type": "code",
   "execution_count": 7,
   "id": "0df0b031-53f0-45f1-b092-3ece240ce80e",
   "metadata": {},
   "outputs": [
    {
     "data": {
      "text/plain": [
       "array([ 0.,  1.,  2.,  3.,  4.,  5.,  6.,  7.,  8.,  9., 10.])"
      ]
     },
     "execution_count": 7,
     "metadata": {},
     "output_type": "execute_result"
    }
   ],
   "source": [
    "#Create Arrays with linear spacing\n",
    "linear_spacing_array = np.linspace(0,10,11) #from 0 to 10, with 11 elements\n",
    "linear_spacing_array"
   ]
  },
  {
   "cell_type": "markdown",
   "id": "109c14c9-cd9d-474f-8830-3bfe5a93fff7",
   "metadata": {},
   "source": [
    "## Multi-Dimensional Arrays\n",
    "### Multidimensional arrays are matrices - Numpy does that"
   ]
  },
  {
   "cell_type": "code",
   "execution_count": 8,
   "id": "1354353c-7bc7-4202-8827-3eb95b692f4c",
   "metadata": {},
   "outputs": [
    {
     "data": {
      "text/plain": [
       "array([[28, 28, 28],\n",
       "       [28, 28, 28],\n",
       "       [28, 28, 28],\n",
       "       [28, 28, 28]])"
      ]
     },
     "execution_count": 8,
     "metadata": {},
     "output_type": "execute_result"
    }
   ],
   "source": [
    "zeros_matrix = np.zeros((4,3))\n",
    "zeros_matrix\n",
    "\n",
    "ones_matrix = np.ones((4,3))\n",
    "ones_matrix\n",
    "\n",
    "identity_matrix = np.eye(4)\n",
    "identity_matrix\n",
    "\n",
    "constant_matrix = np.full((4,3), 28)\n",
    "constant_matrix"
   ]
  },
  {
   "cell_type": "markdown",
   "id": "876b40f9-90bd-4d58-942b-029a5c19e9fb",
   "metadata": {},
   "source": [
    "## Indexing and Slicing Arrays - To access elements in numpy arrays using index and slicing"
   ]
  },
  {
   "cell_type": "code",
   "execution_count": 9,
   "id": "bbf8a339-800d-416a-aabc-0d4fdad61765",
   "metadata": {},
   "outputs": [
    {
     "name": "stdout",
     "output_type": "stream",
     "text": [
      "[[2 3 4]\n",
      " [5 6 7]]\n",
      "indexing the first row [2 3 4]\n",
      "slicing the second column [3 6]\n"
     ]
    }
   ],
   "source": [
    "arr = np.array(([2,3,4], [5,6,7])); print(arr)\n",
    "first_row = arr[0,:]; print(\"indexing the first row\", first_row)\n",
    "second_column = arr[:,1]; print(\"slicing the second column\", second_column)"
   ]
  },
  {
   "cell_type": "code",
   "execution_count": 10,
   "id": "4a44ffcd-697b-4e36-a573-5c11e19bb8e6",
   "metadata": {},
   "outputs": [
    {
     "data": {
      "text/plain": [
       "array([[ 2,  3,  4],\n",
       "       [ 5,  6,  7],\n",
       "       [ 8,  9, 10]])"
      ]
     },
     "execution_count": 10,
     "metadata": {},
     "output_type": "execute_result"
    }
   ],
   "source": [
    "list2 = ([2,3,4], [5,6,7], [8,9,10])\n",
    "list2_matrix = np.array(list2)\n",
    "list2_matrix"
   ]
  },
  {
   "cell_type": "markdown",
   "id": "a2dcbdf2-9fc4-4af5-b293-f95638952563",
   "metadata": {},
   "source": [
    "## Randomly Generated Arrays \n",
    "### Arrays filled with random numbers. Need to set seed for reproducibility "
   ]
  },
  {
   "cell_type": "code",
   "execution_count": 11,
   "id": "560d5e7e-63d7-4720-b1ca-da0c9e7b4c6d",
   "metadata": {},
   "outputs": [
    {
     "data": {
      "text/plain": [
       "array([[4.17022005e-01, 7.20324493e-01],\n",
       "       [1.14374817e-04, 3.02332573e-01],\n",
       "       [1.46755891e-01, 9.23385948e-02],\n",
       "       [1.86260211e-01, 3.45560727e-01],\n",
       "       [3.96767474e-01, 5.38816734e-01]])"
      ]
     },
     "execution_count": 11,
     "metadata": {},
     "output_type": "execute_result"
    }
   ],
   "source": [
    "np.random.seed(1)\n",
    "random_array = np.random.rand(5,2) #generates random numbers between 0,1\n",
    "random_array"
   ]
  },
  {
   "cell_type": "code",
   "execution_count": 12,
   "id": "0cb93cdc-0c3b-482e-a2a1-c6deb8cfb51d",
   "metadata": {},
   "outputs": [
    {
     "name": "stdout",
     "output_type": "stream",
     "text": [
      "[[-0.41675785 -0.05626683]\n",
      " [-2.1361961   1.64027081]\n",
      " [-1.79343559 -0.84174737]\n",
      " [ 0.50288142 -1.24528809]\n",
      " [-1.05795222 -0.90900761]]\n",
      "[[37 39]\n",
      " [67  4]\n",
      " [42 51]\n",
      " [38 33]\n",
      " [58 67]]\n"
     ]
    }
   ],
   "source": [
    "# Random numbers from a normal distrubution\n",
    "np.random.seed(2)\n",
    "\n",
    "normal_dist_array = np.random.randn(5,2) #random normal dist between 0,1 of dim(row=2, col=5)\n",
    "print(normal_dist_array)\n",
    "\n",
    "\n",
    "# Random numbers between a specific range\n",
    "random_integers = np.random.randint(low=0, high=100, size=(5,2))  #random normal dist between 0,1 of dim(row=2, col=5) within a range0 to 100\n",
    "print(random_integers)\n"
   ]
  },
  {
   "cell_type": "markdown",
   "id": "6cfe16de-1f69-47f5-a3c5-c5b2aec7f138",
   "metadata": {},
   "source": [
    "## Element Wise Operations \n",
    "### Numpy excels in performing mathematical operations on arrays efficiently"
   ]
  },
  {
   "cell_type": "code",
   "execution_count": 15,
   "id": "f00ad53a-f246-466a-b6eb-50eb41df2682",
   "metadata": {},
   "outputs": [
    {
     "name": "stdout",
     "output_type": "stream",
     "text": [
      "[[4 5 6]\n",
      " [7 8 9]]\n",
      "[[ 8 10 12]\n",
      " [14 16 18]]\n"
     ]
    }
   ],
   "source": [
    "# operations on entire arrays element by element\n",
    "\n",
    "# arr = np.array([[2,3,4], [4,5,6]])\n",
    "\n",
    "# first_row = arr[0]\n",
    "\n",
    "# first_col = arr[:,0]\n",
    "\n",
    "arr = arr + 1\n",
    "print(arr)\n",
    "\n",
    "arr = arr*2\n",
    "print(arr)\n",
    "\n",
    "# Similar operations for division and exponentiation\n"
   ]
  },
  {
   "cell_type": "markdown",
   "id": "f6ecbabe-56ba-4f99-a350-a6f080fe6e20",
   "metadata": {},
   "source": [
    "### Comparison Operators\n",
    "\n",
    "#### We can perform element-wise comparisons and create boolean arrays:\n"
   ]
  },
  {
   "cell_type": "code",
   "execution_count": 22,
   "id": "eeb1b2d6-a73e-41ae-8ab2-61188606695a",
   "metadata": {},
   "outputs": [
    {
     "name": "stdout",
     "output_type": "stream",
     "text": [
      "[1 2 3 4 5]\n",
      "[False False  True  True  True]\n",
      "[3 4 5]\n",
      "[2 3 4 5]\n"
     ]
    }
   ],
   "source": [
    "arr1 = np.array([1,2,3,4,5])\n",
    "print(arr1)\n",
    "\n",
    "greater_than_2 = arr1 > 2\n",
    "print(greater_than_2)\n",
    "\n",
    "\n",
    "print(arr1[greater_than_2])\n",
    "\n",
    "\n",
    "print(arr1[arr1 > 1]) "
   ]
  },
  {
   "cell_type": "markdown",
   "id": "ff3e8a8e-78c0-4deb-879f-b7ebfcc86778",
   "metadata": {},
   "source": [
    "### Logical Operators"
   ]
  },
  {
   "cell_type": "code",
   "execution_count": null,
   "id": "12d95c08-4117-45d9-96fe-7a695d2db35d",
   "metadata": {},
   "outputs": [],
   "source": []
  },
  {
   "cell_type": "markdown",
   "id": "8ddb1438-ee99-4b3e-b9fc-68f099e41fd4",
   "metadata": {},
   "source": [
    "## Summarizing Operations\n",
    "### Numpy also provides functions for summarizing array data"
   ]
  },
  {
   "cell_type": "code",
   "execution_count": 24,
   "id": "eef4a153-6cf0-4a12-82c6-5571bbdf6abf",
   "metadata": {},
   "outputs": [
    {
     "data": {
      "text/plain": [
       "np.int64(8)"
      ]
     },
     "execution_count": 24,
     "metadata": {},
     "output_type": "execute_result"
    }
   ],
   "source": [
    "min_value  = arr.min(); min_value"
   ]
  },
  {
   "cell_type": "code",
   "execution_count": 25,
   "id": "8624f289-da34-4b6c-bd58-aea428d306b5",
   "metadata": {},
   "outputs": [
    {
     "data": {
      "text/plain": [
       "np.int64(18)"
      ]
     },
     "execution_count": 25,
     "metadata": {},
     "output_type": "execute_result"
    }
   ],
   "source": [
    "max_value = arr.max(); max_value"
   ]
  },
  {
   "cell_type": "code",
   "execution_count": 26,
   "id": "4cbf8071-178c-4520-8490-7974cec686be",
   "metadata": {},
   "outputs": [
    {
     "data": {
      "text/plain": [
       "np.int64(78)"
      ]
     },
     "execution_count": 26,
     "metadata": {},
     "output_type": "execute_result"
    }
   ],
   "source": [
    "sum_value = arr.sum(); sum_value"
   ]
  },
  {
   "cell_type": "code",
   "execution_count": 27,
   "id": "811bfff5-1d71-4060-abfd-d8a833e7ff9d",
   "metadata": {},
   "outputs": [
    {
     "data": {
      "text/plain": [
       "np.float64(13.0)"
      ]
     },
     "execution_count": 27,
     "metadata": {},
     "output_type": "execute_result"
    }
   ],
   "source": [
    "mean_value = arr.mean(); mean_value"
   ]
  },
  {
   "cell_type": "code",
   "execution_count": 29,
   "id": "43553c1f-67a8-44ac-bdd6-fa2bf8d5e1e1",
   "metadata": {},
   "outputs": [
    {
     "data": {
      "text/plain": [
       "np.float64(3.415650255319866)"
      ]
     },
     "execution_count": 29,
     "metadata": {},
     "output_type": "execute_result"
    }
   ],
   "source": [
    "std_deviation = arr.std(); std_deviation"
   ]
  },
  {
   "cell_type": "code",
   "execution_count": null,
   "id": "91ba7464-5608-486e-bb7e-f319d3836870",
   "metadata": {},
   "outputs": [],
   "source": []
  }
 ],
 "metadata": {
  "kernelspec": {
   "display_name": "Python 3 (ipykernel)",
   "language": "python",
   "name": "python3"
  },
  "language_info": {
   "codemirror_mode": {
    "name": "ipython",
    "version": 3
   },
   "file_extension": ".py",
   "mimetype": "text/x-python",
   "name": "python",
   "nbconvert_exporter": "python",
   "pygments_lexer": "ipython3",
   "version": "3.12.1"
  }
 },
 "nbformat": 4,
 "nbformat_minor": 5
}
